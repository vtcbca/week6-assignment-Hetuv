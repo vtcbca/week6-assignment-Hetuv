{
 "cells": [
  {
   "cell_type": "code",
   "execution_count": 1,
   "id": "93c9422a",
   "metadata": {},
   "outputs": [],
   "source": [
    "import sqlite3\n",
    "con=sqlite3.connect('D:\\SEM3\\PYTHON\\week6\\student.db')\n",
    "cur=con.cursor()"
   ]
  },
  {
   "cell_type": "markdown",
   "id": "32a8b1d4",
   "metadata": {},
   "source": [
    "## 1. Create a result table which contain student id, student name and 5 subject marks. "
   ]
  },
  {
   "cell_type": "code",
   "execution_count": 2,
   "id": "23854657",
   "metadata": {
    "scrolled": true
   },
   "outputs": [
    {
     "data": {
      "text/plain": [
       "<sqlite3.Cursor at 0x20d73a7b2c0>"
      ]
     },
     "execution_count": 2,
     "metadata": {},
     "output_type": "execute_result"
    }
   ],
   "source": [
    "cur.execute(\"CREATE TABLE STUDENT(ID,NAME,M1,M2,M3,M4,M5)\")"
   ]
  },
  {
   "cell_type": "markdown",
   "id": "23a1e1b5",
   "metadata": {},
   "source": [
    " ## 2. Enter 10 studnet details with its marks."
   ]
  },
  {
   "cell_type": "code",
   "execution_count": 3,
   "id": "1cac9724",
   "metadata": {},
   "outputs": [],
   "source": [
    "ins=\"insert into STUDENT values(?,?,?,?,?,?,?)\"\n",
    "r=[(1,'Aarav', 76, 85, 90, 67, 54),(2,'Bhavna', 43, 65, 78, 91, 82),(3,'Chetan', 59, 71, 63, 88, 75),\n",
    "(4,'Divya', 92, 94, 97, 99, 96),(5,'Eshaan', 34, 56, 68, 79, 45),(6,'Falak', 81, 83, 86, 89, 87),\n",
    "(7,'Gaurav', 28, 49, 61, 72, 38),(8,'Heena', 66, 77, 88, 55, 44),(9,'Ishaan', 47, 69, 51, 73, 95),\n",
    "(10,'Jyoti', 100, 98, 93, 95,67)]"
   ]
  },
  {
   "cell_type": "code",
   "execution_count": 4,
   "id": "958a6818",
   "metadata": {},
   "outputs": [
    {
     "data": {
      "text/plain": [
       "<sqlite3.Cursor at 0x20d73a7b2c0>"
      ]
     },
     "execution_count": 4,
     "metadata": {},
     "output_type": "execute_result"
    }
   ],
   "source": [
    "cur.executemany(ins,r)"
   ]
  },
  {
   "cell_type": "code",
   "execution_count": 5,
   "id": "6da99e21",
   "metadata": {},
   "outputs": [],
   "source": [
    "con.commit()"
   ]
  },
  {
   "cell_type": "markdown",
   "id": "5dc77188",
   "metadata": {},
   "source": [
    "## 3. Dump table into csv file \"result.csv\"."
   ]
  },
  {
   "cell_type": "code",
   "execution_count": 6,
   "id": "63ad7548",
   "metadata": {},
   "outputs": [
    {
     "name": "stdout",
     "output_type": "stream",
     "text": [
      "[1, 'Aarav', 76, 85, 90, 67, 54]\n",
      "[2, 'Bhavna', 43, 65, 78, 91, 82]\n",
      "[3, 'Chetan', 59, 71, 63, 88, 75]\n",
      "[4, 'Divya', 92, 94, 97, 99, 96]\n",
      "[5, 'Eshaan', 34, 56, 68, 79, 45]\n",
      "[6, 'Falak', 81, 83, 86, 89, 87]\n",
      "[7, 'Gaurav', 28, 49, 61, 72, 38]\n",
      "[8, 'Heena', 66, 77, 88, 55, 44]\n",
      "[9, 'Ishaan', 47, 69, 51, 73, 95]\n",
      "[10, 'Jyoti', 100, 98, 93, 95, 67]\n"
     ]
    }
   ],
   "source": [
    "cur.execute(\"select * from STUDENT\")\n",
    "r=cur.fetchall()\n",
    "for i in r:\n",
    "    print(list(i))"
   ]
  },
  {
   "cell_type": "code",
   "execution_count": 7,
   "id": "bd721102",
   "metadata": {},
   "outputs": [],
   "source": [
    "import csv"
   ]
  },
  {
   "cell_type": "code",
   "execution_count": 8,
   "id": "f63370fc",
   "metadata": {
    "scrolled": true
   },
   "outputs": [],
   "source": [
    "with open('D:\\\\SEM3\\\\PYTHON\\\\Week6\\\\result.csv','w',newline='') as f:\n",
    "    w=csv.writer(f)\n",
    "    h=['id','name','m1','m2','m3','m4','m5']\n",
    "    w.writerow(h)\n",
    "    w.writerows(r)"
   ]
  },
  {
   "cell_type": "markdown",
   "id": "589afd28",
   "metadata": {},
   "source": [
    "#### Read result.csv file"
   ]
  },
  {
   "cell_type": "code",
   "execution_count": 9,
   "id": "a4b48b5f",
   "metadata": {},
   "outputs": [
    {
     "name": "stdout",
     "output_type": "stream",
     "text": [
      "['id', 'name', 'm1', 'm2', 'm3', 'm4', 'm5']\n",
      "['1', 'Aarav', '76', '85', '90', '67', '54']\n",
      "['2', 'Bhavna', '43', '65', '78', '91', '82']\n",
      "['3', 'Chetan', '59', '71', '63', '88', '75']\n",
      "['4', 'Divya', '92', '94', '97', '99', '96']\n",
      "['5', 'Eshaan', '34', '56', '68', '79', '45']\n",
      "['6', 'Falak', '81', '83', '86', '89', '87']\n",
      "['7', 'Gaurav', '28', '49', '61', '72', '38']\n",
      "['8', 'Heena', '66', '77', '88', '55', '44']\n",
      "['9', 'Ishaan', '47', '69', '51', '73', '95']\n",
      "['10', 'Jyoti', '100', '98', '93', '95', '67']\n"
     ]
    }
   ],
   "source": [
    "with open('D:\\\\SEM3\\\\PYTHON\\\\Week6\\\\result.csv','r') as f:\n",
    "    r=csv.reader(f)\n",
    "    for i in r:\n",
    "        print(i)"
   ]
  },
  {
   "cell_type": "markdown",
   "id": "7d83a851",
   "metadata": {},
   "source": [
    "## 4. Read result.csv file and Print Total Marks and Grade of each student. Also Append Total Marks and Grade column into result.csv file."
   ]
  },
  {
   "cell_type": "code",
   "execution_count": 10,
   "id": "b1c82bf1",
   "metadata": {},
   "outputs": [],
   "source": [
    "with open('D:\\\\SEM3\\\\PYTHON\\\\Week6\\\\result.csv','r',newline='') as f:\n",
    "    r=csv.reader(f)\n",
    "    new=[]\n",
    "    header=next(r)\n",
    "    header.append('total')\n",
    "    header.append('grade')\n",
    "    new.append(header)\n",
    "    for i in r:\n",
    "        i.append(int(i[2])+int(i[3])+int(i[4])+int(i[5])+int(i[6]))\n",
    "        if (int(i[7]>=400)):\n",
    "            i.append('A')\n",
    "        elif(int(i[7]>=300)):\n",
    "            i.append('B')\n",
    "        elif(int(i[7]>=200)):\n",
    "            i.append('C')\n",
    "        elif(int(i[7]>=100)):\n",
    "            i.append('D')\n",
    "        else:\n",
    "            i.append('FAIL')\n",
    "        new.append(i)\n",
    "with open('D:\\\\SEM3\\\\PYTHON\\\\Week6\\\\result.csv','w',newline='') as a:\n",
    "    w=csv.writer(a)\n",
    "    w.writerows(new)            "
   ]
  },
  {
   "cell_type": "markdown",
   "id": "11b1079a",
   "metadata": {},
   "source": [
    "#### Now read result.csv file after append"
   ]
  },
  {
   "cell_type": "code",
   "execution_count": 27,
   "id": "33bc2d76",
   "metadata": {},
   "outputs": [
    {
     "name": "stdout",
     "output_type": "stream",
     "text": [
      "['id', 'name', 'm1', 'm2', 'm3', 'm4', 'm5', 'total', 'grade']\n",
      "['1', 'Aarav', '76', '85', '90', '67', '54', '372', 'B']\n",
      "['2', 'Bhavna', '43', '65', '78', '91', '82', '359', 'B']\n",
      "['3', 'Chetan', '59', '71', '63', '88', '75', '356', 'B']\n",
      "['4', 'Divya', '92', '94', '97', '99', '96', '478', 'A']\n",
      "['5', 'Eshaan', '34', '56', '68', '79', '45', '282', 'C']\n",
      "['6', 'Falak', '81', '83', '86', '89', '87', '426', 'A']\n",
      "['7', 'Gaurav', '28', '49', '61', '72', '38', '248', 'C']\n",
      "['8', 'Heena', '66', '77', '88', '55', '44', '330', 'B']\n",
      "['9', 'Ishaan', '47', '69', '51', '73', '95', '335', 'B']\n",
      "['10', 'Jyoti', '100', '98', '93', '95', '67', '453', 'A']\n"
     ]
    }
   ],
   "source": [
    "with open('D:\\\\SEM3\\\\PYTHON\\\\Week6\\\\result.csv','r') as f:\n",
    "    r=csv.reader(f)\n",
    "    for i in r:\n",
    "        print(i)"
   ]
  },
  {
   "cell_type": "markdown",
   "id": "0a1a010d",
   "metadata": {},
   "source": [
    "## 5. List out Top 3 Student id and name with its percentage."
   ]
  },
  {
   "cell_type": "code",
   "execution_count": 54,
   "id": "57858fa7",
   "metadata": {},
   "outputs": [
    {
     "name": "stdout",
     "output_type": "stream",
     "text": [
      "TOP 3 STUDENT:\n",
      "~~~~~~~~~~~~~~~~~~\n",
      "Name: Divya\n",
      "ID: 4\n",
      "Percentage: 95.6\n",
      "__________________\n",
      "Name: Jyoti\n",
      "ID: 10\n",
      "Percentage: 90.6\n",
      "__________________\n",
      "Name: Falak\n",
      "ID: 6\n",
      "Percentage: 85.2\n",
      "__________________\n"
     ]
    }
   ],
   "source": [
    "with open('D:\\\\SEM3\\\\PYTHON\\\\Week6\\\\result.csv','r') as f:\n",
    "    r=csv.reader(f)\n",
    "    l=[]\n",
    "    a=next(r)\n",
    "    for i in r:\n",
    "        l.append(i[7])\n",
    "    print(\"TOP 3 STUDENT:\\n~~~~~~~~~~~~~~~~~~\")\n",
    "    for i in range(3):\n",
    "        b=max(l)\n",
    "        with open('D:\\\\SEM3\\\\PYTHON\\\\Week6\\\\result.csv','r') as f:\n",
    "            r=csv.reader(f)\n",
    "            for i in r:\n",
    "                if(i[7]==str(b)):\n",
    "                    print(\"Name:\",i[1])\n",
    "                    print(\"ID:\",i[0])\n",
    "                    print(\"Percentage:\",int(i[7])/5)\n",
    "                    print(\"__________________\")\n",
    "        l.remove(max(l))"
   ]
  }
 ],
 "metadata": {
  "kernelspec": {
   "display_name": "Python 3 (ipykernel)",
   "language": "python",
   "name": "python3"
  },
  "language_info": {
   "codemirror_mode": {
    "name": "ipython",
    "version": 3
   },
   "file_extension": ".py",
   "mimetype": "text/x-python",
   "name": "python",
   "nbconvert_exporter": "python",
   "pygments_lexer": "ipython3",
   "version": "3.11.2"
  }
 },
 "nbformat": 4,
 "nbformat_minor": 5
}
