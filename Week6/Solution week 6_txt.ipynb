{
 "cells": [
  {
   "cell_type": "code",
   "execution_count": 31,
   "id": "ca9f21bf",
   "metadata": {},
   "outputs": [
    {
     "name": "stdout",
     "output_type": "stream",
     "text": [
      "Python is a popular general-purpose programming language.\n",
      "\n",
      "It was created by Guido van Rossum, and released in 1991.\n",
      "\n",
      "It is used in machine learning, web development, desktop applications, and many other fields. \n",
      "\n",
      "Fortunately for beginners, Python has a simple, easy-to-use syntax. \n",
      "\n",
      "This makes Python a great language to learn for beginners.\n",
      "\n",
      "Why Learn Python?\n",
      "\n",
      "Python is easy to learn. Its syntax is easy and code is very readable.\n",
      "\n",
      "Python has a lot of applications. It's used for developing web applications, data science, rapid application development, and so on.\n",
      "\n",
      "Python allows you to write programs in fewer lines of code than most of the programming languages.\n",
      "\n",
      "The popularity of Python is growing rapidly. Now it's one of the most popular programming languages.\n"
     ]
    }
   ],
   "source": [
    "with open('D:\\SEM3\\PYTHON\\week6\\Python.txt','r') as n:\n",
    "    a=n.readlines()\n",
    "    for i in a:\n",
    "        print(i)"
   ]
  },
  {
   "cell_type": "markdown",
   "id": "beaef455",
   "metadata": {},
   "source": [
    "## Program 1: Read Python.txt file and Print it in Reverse."
   ]
  },
  {
   "cell_type": "code",
   "execution_count": 32,
   "id": "2c542c71",
   "metadata": {},
   "outputs": [
    {
     "name": "stdout",
     "output_type": "stream",
     "text": [
      "The popularity of Python is growing rapidly. Now it's one of the most popular programming languages.\n",
      "Python allows you to write programs in fewer lines of code than most of the programming languages.\n",
      "\n",
      "Python has a lot of applications. It's used for developing web applications, data science, rapid application development, and so on.\n",
      "\n",
      "Python is easy to learn. Its syntax is easy and code is very readable.\n",
      "\n",
      "Why Learn Python?\n",
      "\n",
      "This makes Python a great language to learn for beginners.\n",
      "\n",
      "Fortunately for beginners, Python has a simple, easy-to-use syntax. \n",
      "\n",
      "It is used in machine learning, web development, desktop applications, and many other fields. \n",
      "\n",
      "It was created by Guido van Rossum, and released in 1991.\n",
      "\n",
      "Python is a popular general-purpose programming language.\n",
      "\n"
     ]
    }
   ],
   "source": [
    "with open('D:\\SEM3\\PYTHON\\week6\\Python.txt','r') as n:\n",
    "    r=n.readlines()\n",
    "    c=0\n",
    "    for i in r:\n",
    "        c=c+1\n",
    "    for i in range(c):\n",
    "        c=c-1\n",
    "        print(r[c])"
   ]
  },
  {
   "cell_type": "markdown",
   "id": "367a82b2",
   "metadata": {},
   "source": [
    "## Program 2: Read Python.txt file and Print total number of lines and words in it."
   ]
  },
  {
   "cell_type": "code",
   "execution_count": 34,
   "id": "7601a9fb",
   "metadata": {},
   "outputs": [
    {
     "name": "stdout",
     "output_type": "stream",
     "text": [
      "Total numbers of lines = 10 \n",
      "Total number of words = 121\n"
     ]
    }
   ],
   "source": [
    "with open('D:\\SEM3\\PYTHON\\week6\\Python.txt','r') as n:\n",
    "    r=n.readlines()\n",
    "    c=0\n",
    "    w=0\n",
    "    for i in r:\n",
    "        c=c+1\n",
    "        ww=i.split()\n",
    "        w+=len(ww)\n",
    "    print('Total numbers of lines =',c,'\\nTotal number of words =',w)"
   ]
  },
  {
   "cell_type": "markdown",
   "id": "d614f4c1",
   "metadata": {},
   "source": [
    "## Program 3: Read Python.txt file and Print unique word with its count."
   ]
  },
  {
   "cell_type": "code",
   "execution_count": 5,
   "id": "e79a56d5",
   "metadata": {},
   "outputs": [
    {
     "name": "stdout",
     "output_type": "stream",
     "text": [
      "python: 8\n",
      "is: 6\n",
      "a: 4\n",
      "popular: 2\n",
      "general-purpose: 1\n",
      "programming: 3\n",
      "language: 2\n",
      "it: 2\n",
      "was: 1\n",
      "created: 1\n",
      "by: 1\n",
      "guido: 1\n",
      "van: 1\n",
      "rossum: 1\n",
      "and: 4\n",
      "released: 1\n",
      "in: 3\n",
      "1991: 1\n",
      "used: 2\n",
      "machine: 1\n",
      "learning: 1\n",
      "web: 2\n",
      "development: 2\n",
      "desktop: 1\n",
      "applications: 3\n",
      "many: 1\n",
      "other: 1\n",
      "fields: 1\n",
      "fortunately: 1\n",
      "for: 3\n",
      "beginners: 2\n",
      "has: 2\n",
      "simple: 1\n",
      "easy-to-use: 1\n",
      "syntax: 2\n",
      "this: 1\n",
      "makes: 1\n",
      "great: 1\n",
      "to: 3\n",
      "learn: 3\n",
      "why: 1\n",
      "easy: 2\n",
      "its: 1\n",
      "code: 2\n",
      "very: 1\n",
      "readable: 1\n",
      "lot: 1\n",
      "of: 5\n",
      "it's: 2\n",
      "developing: 1\n",
      "data: 1\n",
      "science: 1\n",
      "rapid: 1\n",
      "application: 1\n",
      "so: 1\n",
      "on: 1\n",
      "allows: 1\n",
      "you: 1\n",
      "write: 1\n",
      "programs: 1\n",
      "fewer: 1\n",
      "lines: 1\n",
      "than: 1\n",
      "most: 2\n",
      "the: 3\n",
      "languages: 2\n",
      "popularity: 1\n",
      "growing: 1\n",
      "rapidly: 1\n",
      "now: 1\n",
      "one: 1\n"
     ]
    }
   ],
   "source": [
    "with open('D:\\SEM3\\PYTHON\\week6\\Python.txt', 'r') as f:\n",
    "    r= f.read()\n",
    "    w= text.split()\n",
    "    word_counts = {}\n",
    "for word in w:\n",
    "    cleaned_word=word.strip('.,!?()[]{}\";:').lower()\n",
    "    if cleaned_word not in word_counts:\n",
    "        word_counts[cleaned_word] = 1\n",
    "    else:\n",
    "        word_counts[cleaned_word] += 1\n",
    "for word, count in word_counts.items():\n",
    "    print(f'{word}: {count}')"
   ]
  },
  {
   "cell_type": "markdown",
   "id": "94149251",
   "metadata": {},
   "source": [
    "## Program 4: Read Python.txt file and Print largest and smallest word from it."
   ]
  },
  {
   "cell_type": "code",
   "execution_count": 7,
   "id": "5057f678",
   "metadata": {},
   "outputs": [
    {
     "name": "stdout",
     "output_type": "stream",
     "text": [
      "Largest Word: general-purpose\n",
      "Smallest Word: a\n"
     ]
    }
   ],
   "source": [
    "with open('D:\\SEM3\\PYTHON\\week6\\Python.txt', 'r') as f:\n",
    "    r=f.read()\n",
    "words=r.split()\n",
    "l= ''\n",
    "s= ''\n",
    "for word in words:\n",
    "    cleaned_word = word.strip('.,!?()[]{}\";:').lower()\n",
    "    if not s or len(cleaned_word) < len(s):\n",
    "        s = cleaned_word\n",
    "    if not l or len(cleaned_word) > len(l):\n",
    "        l = cleaned_word\n",
    "print(f'Largest Word: {l}')\n",
    "print(f'Smallest Word: {s}')\n"
   ]
  },
  {
   "cell_type": "markdown",
   "id": "45ad16a2",
   "metadata": {},
   "source": [
    "## Program 5: Read Python.txt file. Convert it into upper case and write into another file \"Python_Upper.txt\""
   ]
  },
  {
   "cell_type": "code",
   "execution_count": 13,
   "id": "d44b44cf",
   "metadata": {},
   "outputs": [],
   "source": [
    "with open('D:\\SEM3\\PYTHON\\week6\\Python.txt', 'r') as f:\n",
    "    with open('D:\\SEM3\\PYTHON\\week6\\Python_upper.txt','w',newline='') as n:\n",
    "        r=f.readlines()\n",
    "        for i in r:\n",
    "            b=i.upper()\n",
    "            n.writelines(b)"
   ]
  },
  {
   "cell_type": "code",
   "execution_count": 15,
   "id": "d2ad11ee",
   "metadata": {},
   "outputs": [
    {
     "name": "stdout",
     "output_type": "stream",
     "text": [
      "['PYTHON IS A POPULAR GENERAL-PURPOSE PROGRAMMING LANGUAGE.\\n', 'IT WAS CREATED BY GUIDO VAN ROSSUM, AND RELEASED IN 1991.\\n', 'IT IS USED IN MACHINE LEARNING, WEB DEVELOPMENT, DESKTOP APPLICATIONS, AND MANY OTHER FIELDS. \\n', 'FORTUNATELY FOR BEGINNERS, PYTHON HAS A SIMPLE, EASY-TO-USE SYNTAX. \\n', 'THIS MAKES PYTHON A GREAT LANGUAGE TO LEARN FOR BEGINNERS.\\n', 'WHY LEARN PYTHON?\\n', 'PYTHON IS EASY TO LEARN. ITS SYNTAX IS EASY AND CODE IS VERY READABLE.\\n', \"PYTHON HAS A LOT OF APPLICATIONS. IT'S USED FOR DEVELOPING WEB APPLICATIONS, DATA SCIENCE, RAPID APPLICATION DEVELOPMENT, AND SO ON.\\n\", 'PYTHON ALLOWS YOU TO WRITE PROGRAMS IN FEWER LINES OF CODE THAN MOST OF THE PROGRAMMING LANGUAGES.\\n', \"THE POPULARITY OF PYTHON IS GROWING RAPIDLY. NOW IT'S ONE OF THE MOST POPULAR PROGRAMMING LANGUAGES.\"]\n"
     ]
    }
   ],
   "source": [
    "with open('D:\\SEM3\\PYTHON\\week6\\Python_upper.txt', 'r') as f:\n",
    "    r=f.readlines()\n",
    "    print(r)"
   ]
  }
 ],
 "metadata": {
  "kernelspec": {
   "display_name": "Python 3 (ipykernel)",
   "language": "python",
   "name": "python3"
  },
  "language_info": {
   "codemirror_mode": {
    "name": "ipython",
    "version": 3
   },
   "file_extension": ".py",
   "mimetype": "text/x-python",
   "name": "python",
   "nbconvert_exporter": "python",
   "pygments_lexer": "ipython3",
   "version": "3.11.2"
  }
 },
 "nbformat": 4,
 "nbformat_minor": 5
}
